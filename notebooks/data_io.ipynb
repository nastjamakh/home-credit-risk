{
 "cells": [
  {
   "cell_type": "code",
   "execution_count": null,
   "id": "6a556b76",
   "metadata": {},
   "outputs": [],
   "source": [
    "!echo $PYTHONPATH"
   ]
  },
  {
   "cell_type": "code",
   "execution_count": 1,
   "id": "7e24c030",
   "metadata": {},
   "outputs": [
    {
     "name": "stdout",
     "output_type": "stream",
     "text": [
      "/app/src\r\n"
     ]
    }
   ],
   "source": [
    "import pandas as pd\n",
    "import os\n",
    "from enum import Enum\n",
    "import sys\n",
    "sys.path.append(\"../src\")\n",
    "\n",
    "from data_io import DataIO, DatasetFilename\n",
    "from config import data_dir\n",
    "from tqdm import tqdm\n",
    "\n",
    "!echo $PYTHONPATH\n",
    "\n",
    "# auto reload all modules\n",
    "%load_ext autoreload\n",
    "%autoreload 2"
   ]
  },
  {
   "cell_type": "code",
   "execution_count": 2,
   "id": "685078a2",
   "metadata": {},
   "outputs": [
    {
     "data": {
      "text/plain": [
       "'POS_CASH_balance.feather'"
      ]
     },
     "execution_count": 2,
     "metadata": {},
     "output_type": "execute_result"
    }
   ],
   "source": [
    "DatasetFilename.from_name('cash_balance')"
   ]
  },
  {
   "cell_type": "code",
   "execution_count": 3,
   "id": "56686995",
   "metadata": {},
   "outputs": [
    {
     "data": {
      "text/plain": [
       "{}"
      ]
     },
     "execution_count": 3,
     "metadata": {},
     "output_type": "execute_result"
    }
   ],
   "source": [
    "data_io = DataIO()\n",
    "data_io.datasets_"
   ]
  },
  {
   "cell_type": "code",
   "execution_count": 4,
   "id": "d1f7ef17",
   "metadata": {},
   "outputs": [
    {
     "data": {
      "text/plain": [
       "['applications',\n",
       " 'bureau_balance',\n",
       " 'bureau',\n",
       " 'credit_card_balance',\n",
       " 'installments_payments',\n",
       " 'previous_applications',\n",
       " 'cash_balance']"
      ]
     },
     "execution_count": 4,
     "metadata": {},
     "output_type": "execute_result"
    }
   ],
   "source": [
    "data_io.list_available()"
   ]
  },
  {
   "cell_type": "raw",
   "id": "32839c5b",
   "metadata": {},
   "source": [
    "data_io.load_dataset(dataset_name='cash_balance')\n",
    "data_io.list_loaded()"
   ]
  },
  {
   "cell_type": "code",
   "execution_count": 5,
   "id": "b31545ef",
   "metadata": {},
   "outputs": [
    {
     "name": "stderr",
     "output_type": "stream",
     "text": [
      "Loading dataset: cash_balance: 100%|██████████████████████████████████████████████████████████████████████████████████████████████████████████████████████████████████████████| 7/7 [00:16<00:00,  2.39s/it]\n"
     ]
    },
    {
     "data": {
      "text/plain": [
       "['applications',\n",
       " 'bureau_balance',\n",
       " 'bureau',\n",
       " 'credit_card_balance',\n",
       " 'installments_payments',\n",
       " 'previous_applications',\n",
       " 'cash_balance']"
      ]
     },
     "execution_count": 5,
     "metadata": {},
     "output_type": "execute_result"
    }
   ],
   "source": [
    "data_io.load_all()\n",
    "data_io.list_loaded()"
   ]
  },
  {
   "cell_type": "raw",
   "id": "17b13e81",
   "metadata": {},
   "source": [
    "for dataset_name in tqdm(data_io.list_loaded()):\n",
    "    new_path = (data_dir() / DatasetFilename.from_name(dataset_name)).with_suffix('.feather')\n",
    "    data_io.datasets_[dataset_name].to_feather(new_path)"
   ]
  },
  {
   "cell_type": "code",
   "execution_count": 6,
   "id": "0b48650a",
   "metadata": {},
   "outputs": [
    {
     "name": "stdout",
     "output_type": "stream",
     "text": [
      "Index(['sk_id_curr', 'target', 'name_contract_type', 'code_gender',\n",
      "       'flag_own_car', 'flag_own_realty', 'cnt_children', 'amt_income_total',\n",
      "       'amt_credit', 'amt_annuity',\n",
      "       ...\n",
      "       'flag_document_18', 'flag_document_19', 'flag_document_20',\n",
      "       'flag_document_21', 'amt_req_credit_bureau_hour',\n",
      "       'amt_req_credit_bureau_day', 'amt_req_credit_bureau_week',\n",
      "       'amt_req_credit_bureau_mon', 'amt_req_credit_bureau_qrt',\n",
      "       'amt_req_credit_bureau_year'],\n",
      "      dtype='object', length=122)\n",
      "Index(['sk_id_bureau', 'months_balance', 'status'], dtype='object')\n",
      "Index(['sk_id_curr', 'sk_id_bureau', 'credit_active', 'credit_currency',\n",
      "       'days_credit', 'credit_day_overdue', 'days_credit_enddate',\n",
      "       'days_enddate_fact', 'amt_credit_max_overdue', 'cnt_credit_prolong',\n",
      "       'amt_credit_sum', 'amt_credit_sum_debt', 'amt_credit_sum_limit',\n",
      "       'amt_credit_sum_overdue', 'credit_type', 'days_credit_update',\n",
      "       'amt_annuity'],\n",
      "      dtype='object')\n",
      "Index(['sk_id_prev', 'sk_id_curr', 'months_balance', 'amt_balance',\n",
      "       'amt_credit_limit_actual', 'amt_drawings_atm_current',\n",
      "       'amt_drawings_current', 'amt_drawings_other_current',\n",
      "       'amt_drawings_pos_current', 'amt_inst_min_regularity',\n",
      "       'amt_payment_current', 'amt_payment_total_current',\n",
      "       'amt_receivable_principal', 'amt_recivable', 'amt_total_receivable',\n",
      "       'cnt_drawings_atm_current', 'cnt_drawings_current',\n",
      "       'cnt_drawings_other_current', 'cnt_drawings_pos_current',\n",
      "       'cnt_instalment_mature_cum', 'name_contract_status', 'sk_dpd',\n",
      "       'sk_dpd_def'],\n",
      "      dtype='object')\n",
      "Index(['sk_id_prev', 'sk_id_curr', 'num_instalment_version',\n",
      "       'num_instalment_number', 'days_instalment', 'days_entry_payment',\n",
      "       'amt_instalment', 'amt_payment'],\n",
      "      dtype='object')\n",
      "Index(['sk_id_prev', 'sk_id_curr', 'name_contract_type', 'amt_annuity',\n",
      "       'amt_application', 'amt_credit', 'amt_down_payment', 'amt_goods_price',\n",
      "       'weekday_appr_process_start', 'hour_appr_process_start',\n",
      "       'flag_last_appl_per_contract', 'nflag_last_appl_in_day',\n",
      "       'rate_down_payment', 'rate_interest_primary',\n",
      "       'rate_interest_privileged', 'name_cash_loan_purpose',\n",
      "       'name_contract_status', 'days_decision', 'name_payment_type',\n",
      "       'code_reject_reason', 'name_type_suite', 'name_client_type',\n",
      "       'name_goods_category', 'name_portfolio', 'name_product_type',\n",
      "       'channel_type', 'sellerplace_area', 'name_seller_industry',\n",
      "       'cnt_payment', 'name_yield_group', 'product_combination',\n",
      "       'days_first_drawing', 'days_first_due', 'days_last_due_1st_version',\n",
      "       'days_last_due', 'days_termination', 'nflag_insured_on_approval'],\n",
      "      dtype='object')\n",
      "Index(['sk_id_prev', 'sk_id_curr', 'months_balance', 'cnt_instalment',\n",
      "       'cnt_instalment_future', 'name_contract_status', 'sk_dpd',\n",
      "       'sk_dpd_def'],\n",
      "      dtype='object')\n"
     ]
    }
   ],
   "source": [
    "for dataset_name, dataset in data_io.datasets_.items():\n",
    "    print(dataset.columns)"
   ]
  },
  {
   "cell_type": "code",
   "execution_count": null,
   "id": "bc7b07cc",
   "metadata": {},
   "outputs": [],
   "source": []
  }
 ],
 "metadata": {
  "kernelspec": {
   "display_name": "Python 3 (ipykernel)",
   "language": "python",
   "name": "python3"
  },
  "language_info": {
   "codemirror_mode": {
    "name": "ipython",
    "version": 3
   },
   "file_extension": ".py",
   "mimetype": "text/x-python",
   "name": "python",
   "nbconvert_exporter": "python",
   "pygments_lexer": "ipython3",
   "version": "3.9.5"
  }
 },
 "nbformat": 4,
 "nbformat_minor": 5
}
