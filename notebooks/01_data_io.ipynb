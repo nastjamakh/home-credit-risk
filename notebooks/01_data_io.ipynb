{
 "cells": [
  {
   "cell_type": "code",
   "execution_count": 1,
   "id": "6a556b76",
   "metadata": {},
   "outputs": [
    {
     "name": "stdout",
     "output_type": "stream",
     "text": [
      "src\r\n"
     ]
    }
   ],
   "source": [
    "!echo $PYTHONPATH"
   ]
  },
  {
   "cell_type": "code",
   "execution_count": 2,
   "id": "7e24c030",
   "metadata": {},
   "outputs": [],
   "source": [
    "import pandas as pd\n",
    "import os\n",
    "from enum import Enum\n",
    "import sys\n",
    "from pprint import pprint    \n",
    "sys.path.append(\"../src\")\n",
    "\n",
    "from config import data_dir\n",
    "from tqdm import tqdm\n",
    "\n",
    "# auto reload all modules\n",
    "%load_ext autoreload\n",
    "%autoreload 2"
   ]
  },
  {
   "cell_type": "code",
   "execution_count": 3,
   "id": "4d177142",
   "metadata": {},
   "outputs": [
    {
     "data": {
      "text/plain": [
       "'DEBUG'"
      ]
     },
     "execution_count": 3,
     "metadata": {},
     "output_type": "execute_result"
    }
   ],
   "source": [
    "# check .env was loaded\n",
    "os.environ['LOGGING_LEVEL']"
   ]
  },
  {
   "cell_type": "code",
   "execution_count": 7,
   "id": "1bc5a872",
   "metadata": {},
   "outputs": [
    {
     "data": {
      "text/plain": [
       "PosixPath('/app/home-credit-risk/datasets')"
      ]
     },
     "execution_count": 7,
     "metadata": {},
     "output_type": "execute_result"
    }
   ],
   "source": [
    "data_dir()"
   ]
  },
  {
   "cell_type": "markdown",
   "id": "ed6ba7da",
   "metadata": {},
   "source": [
    "### Preprocess descriptions table"
   ]
  },
  {
   "cell_type": "code",
   "execution_count": 10,
   "id": "07a7f98e",
   "metadata": {},
   "outputs": [],
   "source": [
    "descr_filename = \"HomeCredit_columns_description.csv\"\n",
    "descr_df = pd.read_csv(data_dir() / descr_filename, encoding='utf-8')\n",
    "\n",
    "descr_df.table = descr_df.table.map({'application_{train|test}.csv': 'application',\n",
    "                     'bureau.csv': 'bureau',\n",
    "                     'bureau_balance.csv': 'bureau_balance',\n",
    "                     'POS_CASH_balance.csv': 'cash_balance',\n",
    "                     'credit_card_balance.csv': 'credit_card_balance',\n",
    "                     'previous_application.csv': 'previous_applications',\n",
    "                     'installments_payments.csv': 'installments_payments'})\n",
    "descr_df.table.unique()\n",
    "\n",
    "descr_df.columns = [col.lower() for col in descr_df.columns]\n",
    "descr_df.to_csv(data_dir() / \"HomeCredit_columns_description.csv\", index=False)"
   ]
  },
  {
   "cell_type": "markdown",
   "id": "9651e729",
   "metadata": {},
   "source": [
    "### Map dataset name to filename\n",
    "\n",
    "To easily load from name"
   ]
  },
  {
   "cell_type": "code",
   "execution_count": 11,
   "id": "3c071006",
   "metadata": {},
   "outputs": [],
   "source": [
    "class DatasetFilename(Enum):\n",
    "    APPLICATIONS = \"application_train.feather\"\n",
    "    BUREAU_BALANCE = \"bureau_balance.feather\"\n",
    "    BUREAU = \"bureau.feather\"\n",
    "    CREDIT_CARD_BALANCE = \"credit_card_balance.feather\"\n",
    "    INSTALLMENTS_PAYMENTS = \"installments_payments.feather\"\n",
    "    PREVIOUS_APPLICATIONS = \"previous_application.feather\"\n",
    "    CASH_BALANCE = \"POS_CASH_balance.feather\"\n",
    "\n",
    "    @classmethod\n",
    "    def from_name(cls, name):\n",
    "        if hasattr(DatasetFilename, name.upper()):\n",
    "            return getattr(DatasetFilename, name.upper()).value\n",
    "        else:\n",
    "            raise ValueError(f\"No such dataset: {name}\")"
   ]
  },
  {
   "cell_type": "code",
   "execution_count": 12,
   "id": "685078a2",
   "metadata": {},
   "outputs": [
    {
     "data": {
      "text/plain": [
       "'POS_CASH_balance.feather'"
      ]
     },
     "execution_count": 12,
     "metadata": {},
     "output_type": "execute_result"
    }
   ],
   "source": [
    "DatasetFilename.from_name('cash_balance')"
   ]
  },
  {
   "cell_type": "code",
   "execution_count": 13,
   "id": "2fb1d5e4",
   "metadata": {},
   "outputs": [
    {
     "data": {
      "text/plain": [
       "<DatasetFilename.CASH_BALANCE: 'POS_CASH_balance.feather'>"
      ]
     },
     "execution_count": 13,
     "metadata": {},
     "output_type": "execute_result"
    }
   ],
   "source": [
    "DatasetFilename.CASH_BALANCE"
   ]
  },
  {
   "cell_type": "markdown",
   "id": "49d149e3",
   "metadata": {},
   "source": [
    "### Class to load data from file\n",
    "Cache loaded datasets"
   ]
  },
  {
   "cell_type": "code",
   "execution_count": 14,
   "id": "586eb427",
   "metadata": {},
   "outputs": [],
   "source": [
    "class DataIO:\n",
    "\n",
    "    DATASETS = [\n",
    "        name.split(\".\")[0].lower() for name, _ in DatasetFilename.__members__.items()\n",
    "    ]\n",
    "    DESCRIPTIONS_FILENAME = \"HomeCredit_columns_description.csv\"\n",
    "\n",
    "    def __init__(self):\n",
    "\n",
    "        # store loaded datasets\n",
    "        self.datasets_ = dict()\n",
    "\n",
    "    @staticmethod\n",
    "    def format_dataset(df):\n",
    "        df.columns = [col.lower() for col in df.columns]\n",
    "        return df\n",
    "\n",
    "    def load_dataset(self, dataset_name: str) -> pd.DataFrame:\n",
    "        assert dataset_name in self.DATASETS, f\"Unknown dataset {dataset_name}.\"\n",
    "\n",
    "        if dataset_name in self.datasets_:\n",
    "            print(f'Dataset {dataset_name}: already loaded.')\n",
    "            df = self.datasets_[dataset_name]\n",
    "        else:\n",
    "            print(f'Dataset {dataset_name}: loading from file.')\n",
    "            df = pd.read_feather(data_dir() / DatasetFilename.from_name(dataset_name))\n",
    "            self.datasets_[dataset_name] = df\n",
    "\n",
    "        df = self.format_dataset(df)\n",
    "        return df\n",
    "\n",
    "    def load_all(self):\n",
    "        pbar = tqdm(self.DATASETS)\n",
    "        for dataset in pbar:\n",
    "            pbar.set_description(f\"Loading dataset: {dataset}\")\n",
    "            self.load_dataset(dataset_name=dataset)\n",
    "\n",
    "    @classmethod\n",
    "    def list_available(cls) -> list:\n",
    "        return cls.DATASETS\n",
    "    \n",
    "    @classmethod\n",
    "    def describe_columns(cls, dataset_name: str) -> pd.DataFrame:\n",
    "        return pd.read_csv(data_dir() / cls.DESCRIPTIONS_FILENAME, encoding='utf-8')\\\n",
    "                .query('table == @dataset_name')\n",
    "        [['row', 'description']]\n",
    "    def list_loaded(self) -> list:\n",
    "        return list(self.datasets_.keys())"
   ]
  },
  {
   "cell_type": "code",
   "execution_count": 15,
   "id": "152f7022",
   "metadata": {},
   "outputs": [
    {
     "data": {
      "text/html": [
       "<div>\n",
       "<style scoped>\n",
       "    .dataframe tbody tr th:only-of-type {\n",
       "        vertical-align: middle;\n",
       "    }\n",
       "\n",
       "    .dataframe tbody tr th {\n",
       "        vertical-align: top;\n",
       "    }\n",
       "\n",
       "    .dataframe thead th {\n",
       "        text-align: right;\n",
       "    }\n",
       "</style>\n",
       "<table border=\"1\" class=\"dataframe\">\n",
       "  <thead>\n",
       "    <tr style=\"text-align: right;\">\n",
       "      <th></th>\n",
       "      <th>table</th>\n",
       "      <th>row</th>\n",
       "      <th>description</th>\n",
       "      <th>special</th>\n",
       "    </tr>\n",
       "  </thead>\n",
       "  <tbody>\n",
       "  </tbody>\n",
       "</table>\n",
       "</div>"
      ],
      "text/plain": [
       "Empty DataFrame\n",
       "Columns: [table, row, description, special]\n",
       "Index: []"
      ]
     },
     "execution_count": 15,
     "metadata": {},
     "output_type": "execute_result"
    }
   ],
   "source": [
    "data_io = DataIO()\n",
    "descr_df = data_io.describe_columns('cash_balance')\n",
    "descr_df"
   ]
  },
  {
   "cell_type": "code",
   "execution_count": 23,
   "id": "c11b358a",
   "metadata": {},
   "outputs": [
    {
     "data": {
      "text/html": [
       "<div>\n",
       "<style scoped>\n",
       "    .dataframe tbody tr th:only-of-type {\n",
       "        vertical-align: middle;\n",
       "    }\n",
       "\n",
       "    .dataframe tbody tr th {\n",
       "        vertical-align: top;\n",
       "    }\n",
       "\n",
       "    .dataframe thead th {\n",
       "        text-align: right;\n",
       "    }\n",
       "</style>\n",
       "<table border=\"1\" class=\"dataframe\">\n",
       "  <thead>\n",
       "    <tr style=\"text-align: right;\">\n",
       "      <th></th>\n",
       "      <th>table</th>\n",
       "      <th>row</th>\n",
       "      <th>description</th>\n",
       "      <th>special</th>\n",
       "    </tr>\n",
       "  </thead>\n",
       "  <tbody>\n",
       "  </tbody>\n",
       "</table>\n",
       "</div>"
      ],
      "text/plain": [
       "Empty DataFrame\n",
       "Columns: [table, row, description, special]\n",
       "Index: []"
      ]
     },
     "execution_count": 23,
     "metadata": {},
     "output_type": "execute_result"
    }
   ],
   "source": [
    "data_io.describe_columns('cash_balance')"
   ]
  },
  {
   "cell_type": "code",
   "execution_count": 25,
   "id": "56686995",
   "metadata": {},
   "outputs": [
    {
     "data": {
      "text/plain": [
       "dict_keys(['cash_balance', 'applications', 'bureau_balance', 'bureau', 'credit_card_balance', 'installments_payments', 'previous_applications'])"
      ]
     },
     "execution_count": 25,
     "metadata": {},
     "output_type": "execute_result"
    }
   ],
   "source": [
    "data_io.datasets_.keys()"
   ]
  },
  {
   "cell_type": "code",
   "execution_count": 16,
   "id": "d1f7ef17",
   "metadata": {},
   "outputs": [
    {
     "data": {
      "text/plain": [
       "['applications',\n",
       " 'bureau_balance',\n",
       " 'bureau',\n",
       " 'credit_card_balance',\n",
       " 'installments_payments',\n",
       " 'previous_applications',\n",
       " 'cash_balance']"
      ]
     },
     "execution_count": 16,
     "metadata": {},
     "output_type": "execute_result"
    }
   ],
   "source": [
    "data_io.list_available()"
   ]
  },
  {
   "cell_type": "code",
   "execution_count": 17,
   "id": "5d243111",
   "metadata": {},
   "outputs": [
    {
     "name": "stdout",
     "output_type": "stream",
     "text": [
      "Dataset cash_balance: loading from file.\n"
     ]
    },
    {
     "data": {
      "text/plain": [
       "['cash_balance']"
      ]
     },
     "execution_count": 17,
     "metadata": {},
     "output_type": "execute_result"
    }
   ],
   "source": [
    "data_io.load_dataset(dataset_name='cash_balance')\n",
    "data_io.list_loaded()"
   ]
  },
  {
   "cell_type": "code",
   "execution_count": 18,
   "id": "b31545ef",
   "metadata": {},
   "outputs": [
    {
     "name": "stderr",
     "output_type": "stream",
     "text": [
      "Loading dataset: applications:   0%|                                                                                                                                                            | 0/7 [00:00<?, ?it/s]"
     ]
    },
    {
     "name": "stdout",
     "output_type": "stream",
     "text": [
      "Dataset applications: loading from file.\n"
     ]
    },
    {
     "name": "stderr",
     "output_type": "stream",
     "text": [
      "Loading dataset: bureau_balance:  14%|████████████████████▊                                                                                                                             | 1/7 [00:03<00:18,  3.12s/it]"
     ]
    },
    {
     "name": "stdout",
     "output_type": "stream",
     "text": [
      "Dataset bureau_balance: loading from file.\n"
     ]
    },
    {
     "name": "stderr",
     "output_type": "stream",
     "text": [
      "Loading dataset: bureau:  29%|████████████████████████████████████████████                                                                                                              | 2/7 [00:09<00:25,  5.14s/it]"
     ]
    },
    {
     "name": "stdout",
     "output_type": "stream",
     "text": [
      "Dataset bureau: loading from file.\n"
     ]
    },
    {
     "name": "stderr",
     "output_type": "stream",
     "text": [
      "Loading dataset: credit_card_balance:  43%|████████████████████████████████████████████████████████████▍                                                                                | 3/7 [00:12<00:16,  4.19s/it]"
     ]
    },
    {
     "name": "stdout",
     "output_type": "stream",
     "text": [
      "Dataset credit_card_balance: loading from file.\n"
     ]
    },
    {
     "name": "stderr",
     "output_type": "stream",
     "text": [
      "Loading dataset: installments_payments:  57%|███████████████████████████████████████████████████████████████████████████████▍                                                           | 4/7 [00:19<00:15,  5.21s/it]"
     ]
    },
    {
     "name": "stdout",
     "output_type": "stream",
     "text": [
      "Dataset installments_payments: loading from file.\n"
     ]
    },
    {
     "name": "stderr",
     "output_type": "stream",
     "text": [
      "Loading dataset: previous_applications:  71%|███████████████████████████████████████████████████████████████████████████████████████████████████▎                                       | 5/7 [00:32<00:16,  8.13s/it]"
     ]
    },
    {
     "name": "stdout",
     "output_type": "stream",
     "text": [
      "Dataset previous_applications: loading from file.\n"
     ]
    },
    {
     "name": "stderr",
     "output_type": "stream",
     "text": [
      "Loading dataset: cash_balance: 100%|████████████████████████████████████████████████████████████████████████████████████████████████████████████████████████████████████████████████████| 7/7 [00:42<00:00,  6.10s/it]"
     ]
    },
    {
     "name": "stdout",
     "output_type": "stream",
     "text": [
      "Dataset cash_balance: already loaded.\n"
     ]
    },
    {
     "name": "stderr",
     "output_type": "stream",
     "text": [
      "\n"
     ]
    },
    {
     "data": {
      "text/plain": [
       "['cash_balance',\n",
       " 'applications',\n",
       " 'bureau_balance',\n",
       " 'bureau',\n",
       " 'credit_card_balance',\n",
       " 'installments_payments',\n",
       " 'previous_applications']"
      ]
     },
     "execution_count": 18,
     "metadata": {},
     "output_type": "execute_result"
    }
   ],
   "source": [
    "data_io.load_all()\n",
    "data_io.list_loaded()"
   ]
  },
  {
   "cell_type": "code",
   "execution_count": 20,
   "id": "54dd9c4d",
   "metadata": {},
   "outputs": [
    {
     "data": {
      "text/html": [
       "<div>\n",
       "<style scoped>\n",
       "    .dataframe tbody tr th:only-of-type {\n",
       "        vertical-align: middle;\n",
       "    }\n",
       "\n",
       "    .dataframe tbody tr th {\n",
       "        vertical-align: top;\n",
       "    }\n",
       "\n",
       "    .dataframe thead th {\n",
       "        text-align: right;\n",
       "    }\n",
       "</style>\n",
       "<table border=\"1\" class=\"dataframe\">\n",
       "  <thead>\n",
       "    <tr style=\"text-align: right;\">\n",
       "      <th></th>\n",
       "      <th>sk_id_prev</th>\n",
       "      <th>sk_id_curr</th>\n",
       "      <th>months_balance</th>\n",
       "      <th>cnt_instalment</th>\n",
       "      <th>cnt_instalment_future</th>\n",
       "      <th>name_contract_status</th>\n",
       "      <th>sk_dpd</th>\n",
       "      <th>sk_dpd_def</th>\n",
       "    </tr>\n",
       "  </thead>\n",
       "  <tbody>\n",
       "    <tr>\n",
       "      <th>0</th>\n",
       "      <td>1803195</td>\n",
       "      <td>182943</td>\n",
       "      <td>-31</td>\n",
       "      <td>48.0</td>\n",
       "      <td>45.0</td>\n",
       "      <td>Active</td>\n",
       "      <td>0</td>\n",
       "      <td>0</td>\n",
       "    </tr>\n",
       "    <tr>\n",
       "      <th>1</th>\n",
       "      <td>1715348</td>\n",
       "      <td>367990</td>\n",
       "      <td>-33</td>\n",
       "      <td>36.0</td>\n",
       "      <td>35.0</td>\n",
       "      <td>Active</td>\n",
       "      <td>0</td>\n",
       "      <td>0</td>\n",
       "    </tr>\n",
       "    <tr>\n",
       "      <th>2</th>\n",
       "      <td>1784872</td>\n",
       "      <td>397406</td>\n",
       "      <td>-32</td>\n",
       "      <td>12.0</td>\n",
       "      <td>9.0</td>\n",
       "      <td>Active</td>\n",
       "      <td>0</td>\n",
       "      <td>0</td>\n",
       "    </tr>\n",
       "    <tr>\n",
       "      <th>3</th>\n",
       "      <td>1903291</td>\n",
       "      <td>269225</td>\n",
       "      <td>-35</td>\n",
       "      <td>48.0</td>\n",
       "      <td>42.0</td>\n",
       "      <td>Active</td>\n",
       "      <td>0</td>\n",
       "      <td>0</td>\n",
       "    </tr>\n",
       "    <tr>\n",
       "      <th>4</th>\n",
       "      <td>2341044</td>\n",
       "      <td>334279</td>\n",
       "      <td>-35</td>\n",
       "      <td>36.0</td>\n",
       "      <td>35.0</td>\n",
       "      <td>Active</td>\n",
       "      <td>0</td>\n",
       "      <td>0</td>\n",
       "    </tr>\n",
       "  </tbody>\n",
       "</table>\n",
       "</div>"
      ],
      "text/plain": [
       "   sk_id_prev  sk_id_curr  months_balance  cnt_instalment  \\\n",
       "0     1803195      182943             -31            48.0   \n",
       "1     1715348      367990             -33            36.0   \n",
       "2     1784872      397406             -32            12.0   \n",
       "3     1903291      269225             -35            48.0   \n",
       "4     2341044      334279             -35            36.0   \n",
       "\n",
       "   cnt_instalment_future name_contract_status  sk_dpd  sk_dpd_def  \n",
       "0                   45.0               Active       0           0  \n",
       "1                   35.0               Active       0           0  \n",
       "2                    9.0               Active       0           0  \n",
       "3                   42.0               Active       0           0  \n",
       "4                   35.0               Active       0           0  "
      ]
     },
     "execution_count": 20,
     "metadata": {},
     "output_type": "execute_result"
    }
   ],
   "source": [
    "data_io.datasets_['cash_balance'].head()"
   ]
  },
  {
   "cell_type": "code",
   "execution_count": null,
   "id": "75adcc79",
   "metadata": {},
   "outputs": [],
   "source": []
  }
 ],
 "metadata": {
  "kernelspec": {
   "display_name": "Python 3 (ipykernel)",
   "language": "python",
   "name": "python3"
  },
  "language_info": {
   "codemirror_mode": {
    "name": "ipython",
    "version": 3
   },
   "file_extension": ".py",
   "mimetype": "text/x-python",
   "name": "python",
   "nbconvert_exporter": "python",
   "pygments_lexer": "ipython3",
   "version": "3.9.5"
  }
 },
 "nbformat": 4,
 "nbformat_minor": 5
}
